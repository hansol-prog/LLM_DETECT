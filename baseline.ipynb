{
 "cells": [
  {
   "cell_type": "markdown",
   "id": "378a281c",
   "metadata": {},
   "source": [
    "# LLM DETECTION"
   ]
  },
  {
   "cell_type": "code",
   "execution_count": 8,
   "id": "c9ae0f17",
   "metadata": {},
   "outputs": [],
   "source": [
    "import pandas as pd\n",
    "\n",
    "from sklearn.model_selection import train_test_split\n",
    "from sklearn.feature_extraction.text import TfidfVectorizer\n",
    "from sklearn.pipeline import Pipeline, FeatureUnion\n",
    "from sklearn.preprocessing import FunctionTransformer\n",
    "from sklearn.metrics import roc_auc_score\n",
    "\n",
    "from xgboost import XGBClassifier"
   ]
  },
  {
   "cell_type": "code",
   "execution_count": 3,
   "id": "01c65ebd",
   "metadata": {},
   "outputs": [],
   "source": [
    "train = pd.read_csv('open/train.csv', encoding='utf-8')\n",
    "test = pd.read_csv('open/test.csv', encoding='utf-8')"
   ]
  },
  {
   "cell_type": "code",
   "execution_count": 14,
   "id": "b9a6b352",
   "metadata": {},
   "outputs": [
    {
     "name": "stdout",
     "output_type": "stream",
     "text": [
      "title        7995\n",
      "full_text    7995\n",
      "generated    7995\n",
      "dtype: int64\n"
     ]
    }
   ],
   "source": [
    "print(train[train['generated'] == 1].count())"
   ]
  },
  {
   "cell_type": "code",
   "execution_count": 6,
   "id": "c36c4559",
   "metadata": {},
   "outputs": [],
   "source": [
    "X = train[['title', 'full_text']]\n",
    "y = train['generated']\n",
    "X_train, X_val, y_train, y_val = train_test_split(X, y, test_size=0.2, random_state=42)"
   ]
  },
  {
   "cell_type": "code",
   "execution_count": 9,
   "id": "7b2c1a20",
   "metadata": {},
   "outputs": [],
   "source": [
    "get_title = FunctionTransformer(lambda x: x['title'], validate=False)\n",
    "get_text = FunctionTransformer(lambda x: x['full_text'], validate=False)\n",
    "\n",
    "vectorizer = FeatureUnion([\n",
    "    ('title', Pipeline([('selector', get_title), \n",
    "                        ('tfidf', TfidfVectorizer(ngram_range=(1, 2), max_features=3000))])),\n",
    "    ('full_text', Pipeline([('selector', get_text),\n",
    "                        ('tfidf', TfidfVectorizer(ngram_range=(1, 2), max_features=10000))])),\n",
    "])\n",
    "\n",
    "X_train_vec = vectorizer.fit_transform(X_train)\n",
    "X_val_vec = vectorizer.transform(X_val)"
   ]
  },
  {
   "cell_type": "code",
   "execution_count": null,
   "id": "feb792af",
   "metadata": {},
   "outputs": [
    {
     "name": "stdout",
     "output_type": "stream",
     "text": [
      "Validation AUV: 0.9183\n"
     ]
    }
   ],
   "source": [
    "xgb = XGBClassifier(random_state=42)\n",
    "xgb.fit(X_train_vec, y_train)\n",
    "\n",
    "val_probs = xgb.predict_proba(X_val_vec)[:, 1]\n",
    "auc = roc_auc_score(y_val, val_probs)\n",
    "print(f'Validation AUC: {auc:.4f}')"
   ]
  },
  {
   "cell_type": "code",
   "execution_count": 18,
   "id": "d77283b9",
   "metadata": {},
   "outputs": [
    {
     "data": {
      "text/html": [
       "<div>\n",
       "<style scoped>\n",
       "    .dataframe tbody tr th:only-of-type {\n",
       "        vertical-align: middle;\n",
       "    }\n",
       "\n",
       "    .dataframe tbody tr th {\n",
       "        vertical-align: top;\n",
       "    }\n",
       "\n",
       "    .dataframe thead th {\n",
       "        text-align: right;\n",
       "    }\n",
       "</style>\n",
       "<table border=\"1\" class=\"dataframe\">\n",
       "  <thead>\n",
       "    <tr style=\"text-align: right;\">\n",
       "      <th></th>\n",
       "      <th>title</th>\n",
       "      <th>full_text</th>\n",
       "      <th>predicted</th>\n",
       "    </tr>\n",
       "  </thead>\n",
       "  <tbody>\n",
       "    <tr>\n",
       "      <th>71026</th>\n",
       "      <td>Santana IV</td>\n",
       "      <td>이 음반은 카를로스 산타나, 그렉 롤리, 닐 숀, 마이클 카라벨로, 마이클 슈리브를...</td>\n",
       "      <td>0.123861</td>\n",
       "    </tr>\n",
       "    <tr>\n",
       "      <th>16801</th>\n",
       "      <td>다니엘 루이스바산</td>\n",
       "      <td>다니엘 루이스바산 후스타(, 1951년 6월 28일, 바스크 주 소푸에르타 ~ )는...</td>\n",
       "      <td>0.104320</td>\n",
       "    </tr>\n",
       "    <tr>\n",
       "      <th>51979</th>\n",
       "      <td>UZ HRCS2</td>\n",
       "      <td>HRCS2는 유로 2012를 앞두고 도입된 현대로템에서 생산한 우크라이나의 전동차이...</td>\n",
       "      <td>0.007306</td>\n",
       "    </tr>\n",
       "    <tr>\n",
       "      <th>11014</th>\n",
       "      <td>비키니 왁싱</td>\n",
       "      <td>비키니 왁싱(bikini waxing) 또는 브라질리언 왁싱(brazilian wa...</td>\n",
       "      <td>0.004940</td>\n",
       "    </tr>\n",
       "    <tr>\n",
       "      <th>7932</th>\n",
       "      <td>A-A선</td>\n",
       "      <td>아르한겔스크-아스트라한 선, 또는 A-A 선은 바르바로사 작전 당시 군사 목표 지점...</td>\n",
       "      <td>0.038887</td>\n",
       "    </tr>\n",
       "    <tr>\n",
       "      <th>...</th>\n",
       "      <td>...</td>\n",
       "      <td>...</td>\n",
       "      <td>...</td>\n",
       "    </tr>\n",
       "    <tr>\n",
       "      <th>62049</th>\n",
       "      <td>탁스코</td>\n",
       "      <td>탁스코는 멕시코 게레로주에 위치한 작은 도시로 면적은 347km2 이고 해발고도 1...</td>\n",
       "      <td>0.018463</td>\n",
       "    </tr>\n",
       "    <tr>\n",
       "      <th>87373</th>\n",
       "      <td>이고리 쿠르차토프</td>\n",
       "      <td>이고리 바실리예비치 쿠르차토프(, 1903년 1월 12일 ~ 1960년 2월 7일)...</td>\n",
       "      <td>0.050209</td>\n",
       "    </tr>\n",
       "    <tr>\n",
       "      <th>9902</th>\n",
       "      <td>국립사이버안보센터</td>\n",
       "      <td>1951년, 영국 국방부가 위치한 런던의 이스트코트에 GCHQ 본부가 있었는데, 첼...</td>\n",
       "      <td>0.046668</td>\n",
       "    </tr>\n",
       "    <tr>\n",
       "      <th>79629</th>\n",
       "      <td>클라리스 스탈링</td>\n",
       "      <td>클라리스 M. 스탈링(Clarice M. Starling)은 미국의 소설가 토머스 ...</td>\n",
       "      <td>0.996990</td>\n",
       "    </tr>\n",
       "    <tr>\n",
       "      <th>1793</th>\n",
       "      <td>카메룬</td>\n",
       "      <td>카메룬 공화국(, ), 줄여서 카메룬(, , )은 중앙아프리카에 위치한 단일제 국가...</td>\n",
       "      <td>0.001508</td>\n",
       "    </tr>\n",
       "  </tbody>\n",
       "</table>\n",
       "<p>19435 rows × 3 columns</p>\n",
       "</div>"
      ],
      "text/plain": [
       "            title                                          full_text  \\\n",
       "71026  Santana IV  이 음반은 카를로스 산타나, 그렉 롤리, 닐 숀, 마이클 카라벨로, 마이클 슈리브를...   \n",
       "16801   다니엘 루이스바산  다니엘 루이스바산 후스타(, 1951년 6월 28일, 바스크 주 소푸에르타 ~ )는...   \n",
       "51979    UZ HRCS2  HRCS2는 유로 2012를 앞두고 도입된 현대로템에서 생산한 우크라이나의 전동차이...   \n",
       "11014      비키니 왁싱  비키니 왁싱(bikini waxing) 또는 브라질리언 왁싱(brazilian wa...   \n",
       "7932         A-A선  아르한겔스크-아스트라한 선, 또는 A-A 선은 바르바로사 작전 당시 군사 목표 지점...   \n",
       "...           ...                                                ...   \n",
       "62049         탁스코  탁스코는 멕시코 게레로주에 위치한 작은 도시로 면적은 347km2 이고 해발고도 1...   \n",
       "87373   이고리 쿠르차토프  이고리 바실리예비치 쿠르차토프(, 1903년 1월 12일 ~ 1960년 2월 7일)...   \n",
       "9902    국립사이버안보센터  1951년, 영국 국방부가 위치한 런던의 이스트코트에 GCHQ 본부가 있었는데, 첼...   \n",
       "79629    클라리스 스탈링  클라리스 M. 스탈링(Clarice M. Starling)은 미국의 소설가 토머스 ...   \n",
       "1793          카메룬  카메룬 공화국(, ), 줄여서 카메룬(, , )은 중앙아프리카에 위치한 단일제 국가...   \n",
       "\n",
       "       predicted  \n",
       "71026   0.123861  \n",
       "16801   0.104320  \n",
       "51979   0.007306  \n",
       "11014   0.004940  \n",
       "7932    0.038887  \n",
       "...          ...  \n",
       "62049   0.018463  \n",
       "87373   0.050209  \n",
       "9902    0.046668  \n",
       "79629   0.996990  \n",
       "1793    0.001508  \n",
       "\n",
       "[19435 rows x 3 columns]"
      ]
     },
     "execution_count": 18,
     "metadata": {},
     "output_type": "execute_result"
    }
   ],
   "source": [
    "X_val_copy = X_val.copy()\n",
    "X_val_copy['predicted'] = val_probs\n",
    "X_val_copy"
   ]
  },
  {
   "cell_type": "code",
   "execution_count": 22,
   "id": "2d72d23f",
   "metadata": {},
   "outputs": [],
   "source": [
    "# test용으로 'paragraph_text'를 'full_text'에 맞게 재명명\n",
    "test = test.rename(columns={'paragraph_text': 'full_text'})\n",
    "\n",
    "X_test = test[['title', 'full_text']]\n",
    "\n",
    "X_test_vec = vectorizer.transform(X_test)\n",
    "\n",
    "probs = xgb.predict_proba(X_test_vec)[:, 1]"
   ]
  },
  {
   "cell_type": "code",
   "execution_count": 27,
   "id": "55b1d3b2",
   "metadata": {},
   "outputs": [],
   "source": [
    "sample_submission = pd.read_csv('./open/sample_submission.csv', encoding='utf-8-sig')\n",
    "\n",
    "sample_submission['generated'] = (probs >= 0.05).astype(int)\n",
    "\n",
    "sample_submission.to_csv(f'./baseline_submission.csv', index=False)"
   ]
  },
  {
   "cell_type": "code",
   "execution_count": null,
   "id": "2448345a",
   "metadata": {},
   "outputs": [],
   "source": []
  }
 ],
 "metadata": {
  "kernelspec": {
   "display_name": ".3.10",
   "language": "python",
   "name": "python3"
  },
  "language_info": {
   "codemirror_mode": {
    "name": "ipython",
    "version": 3
   },
   "file_extension": ".py",
   "mimetype": "text/x-python",
   "name": "python",
   "nbconvert_exporter": "python",
   "pygments_lexer": "ipython3",
   "version": "3.10.11"
  }
 },
 "nbformat": 4,
 "nbformat_minor": 5
}
